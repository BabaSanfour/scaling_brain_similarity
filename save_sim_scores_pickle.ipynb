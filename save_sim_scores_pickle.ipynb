{
 "cells": [
  {
   "cell_type": "code",
   "execution_count": 1,
   "id": "4a1e6da3",
   "metadata": {},
   "outputs": [],
   "source": [
    "import os\n",
    "import json\n",
    "import pickle\n",
    "import numpy as np \n",
    "from resnet import resnet\n",
    "from utils.utils import get_model_size"
   ]
  },
  {
   "cell_type": "markdown",
   "id": "5e335306",
   "metadata": {},
   "source": [
    "## Get scaling model results"
   ]
  },
  {
   "cell_type": "code",
   "execution_count": 7,
   "id": "d8696668",
   "metadata": {},
   "outputs": [],
   "source": [
    "folder = \"scaling_resnet152_params\"\n",
    "model_name = \"resnet152\"\n",
    "path = f\"/home/hamza97/scratch/data/scaling_data/brain_scores/{folder}\"\n",
    "all_files = os.listdir(path)"
   ]
  },
  {
   "cell_type": "code",
   "execution_count": 22,
   "id": "1d937a09",
   "metadata": {},
   "outputs": [
    {
     "name": "stdout",
     "output_type": "stream",
     "text": [
      "Model: resnet152, Width: width8, Params: 13023464\n",
      "Initialized model with 13023464 total parameters, of which 13023464 are learnable.\n",
      "Model: resnet152, Width: width32, Params: 24746664\n",
      "Initialized model with 24746664 total parameters, of which 24746664 are learnable.\n",
      "Model: resnet152, Width: width64, Params: 59072552\n",
      "Initialized model with 59072552 total parameters, of which 59072552 are learnable.\n",
      "Model: resnet152, Width: width128, Params: 171242280\n",
      "Initialized model with 171242280 total parameters, of which 171242280 are learnable.\n",
      "Model: resnet152, Width: width192, Params: 341435944\n",
      "Initialized model with 341435944 total parameters, of which 341435944 are learnable.\n",
      "Model: resnet152, Width: width256, Params: 569653544\n",
      "Initialized model with 569653544 total parameters, of which 569653544 are learnable.\n"
     ]
    }
   ],
   "source": [
    "final_results = {}\n",
    "for width in [\"width8\", \"width32\", \"width64\", \"width128\", \"width192\", \"width256\"]:\n",
    "    model_config = f\"./model_config/{model_name}_{width}.json\"\n",
    "    with open(model_config) as f:\n",
    "        model_config = json.load(f)\n",
    "    model = resnet(**model_config)\n",
    "    params = get_model_size(model, False)\n",
    "    print(f\"Model: {model_name}, Width: {width}, Params: {params}\")\n",
    "    print(\n",
    "        f\"Initialized model with {get_model_size(model, False)} \"\n",
    "        f\"total parameters, of which {get_model_size(model, True)} are learnable.\"\n",
    "    )\n",
    "    files = [filename for filename in all_files if filename.startswith(f\"{model_name}_{width}_s0_t2\")]\n",
    "    width_results = {}\n",
    "    for file in files:\n",
    "        array = np.load(os.path.join(path, file))\n",
    "        width_results[file.split(f\"t2_\")[1].split('.npy')[0]] = array\n",
    "    final_results[f\"{width}: {params} paramateres\"] = width_results\n",
    "\n"
   ]
  },
  {
   "cell_type": "code",
   "execution_count": 23,
   "id": "44f6e023",
   "metadata": {},
   "outputs": [],
   "source": [
    "with open(f'brain_score_results/{model_name}_scaling_res.pkl', 'wb') as f:\n",
    "    pickle.dump(final_results, f)"
   ]
  },
  {
   "cell_type": "markdown",
   "id": "acabe25d",
   "metadata": {},
   "source": [
    "## Get scaling data results"
   ]
  },
  {
   "cell_type": "code",
   "execution_count": 2,
   "id": "6117f410",
   "metadata": {},
   "outputs": [],
   "source": [
    "folder = \"scaling_imagenet_data\"\n",
    "model_name = \"resnet152\"\n",
    "width = \"width256\"\n",
    "path = f\"/home/hamza97/scratch/data/scaling_data/brain_scores/{folder}\"\n",
    "all_files = os.listdir(path)"
   ]
  },
  {
   "cell_type": "code",
   "execution_count": 53,
   "id": "7be32499",
   "metadata": {},
   "outputs": [],
   "source": [
    "final_results = {}\n",
    "imagenet_sizes = [3843501, 2562334, 1281167, 640576, 320284, 159699, 79850, 40372, 19741, 9819, 4877, 1979, 1000]\n",
    "imagenet_sizes.reverse()\n",
    "for i, scale in enumerate([\"s10_t0\", \"s9_t0\", \"s8_t0\", \"s7_t0\", \"s6_t0\", \"s5_t0\", \"s4_t0\", \"s3_t0\", \"s2_t0\", \"s1_t0\", \"s0_t0\", \"s0_t1\", \"s0_t2\"]):\n",
    "    files = [filename for filename in all_files if filename.startswith(f\"{model_name}_{width}_{scale}\")]\n",
    "    width_results = {}\n",
    "    for file in files:\n",
    "        array = np.load(os.path.join(path, file))\n",
    "        width_results[file.split(f\"_\")[4].split('.npy')[0]] = array\n",
    "    final_results[f\"scale {scale}: {imagenet_sizes[i]} picture\"] = width_results\n",
    "\n"
   ]
  },
  {
   "cell_type": "code",
   "execution_count": null,
   "id": "1fd9895e",
   "metadata": {},
   "outputs": [],
   "source": [
    "with open(f'brain_score_results/scaling_data_imagenet.pkl', 'wb') as f:\n",
    "    pickle.dump(final_results, f)"
   ]
  },
  {
   "cell_type": "code",
   "execution_count": 3,
   "id": "d6287027",
   "metadata": {},
   "outputs": [],
   "source": [
    "folder = \"places365\"\n",
    "model_name = \"resnet152\"\n",
    "width = \"width256\"\n",
    "path = f\"/home/hamza97/scratch/data/scaling_data/brain_scores/{folder}\"\n",
    "all_files = os.listdir(path)"
   ]
  },
  {
   "cell_type": "code",
   "execution_count": 55,
   "id": "0c859235",
   "metadata": {},
   "outputs": [],
   "source": [
    "final_results = {}\n",
    "places365_sizes = [450856, 225421, 112531, 56261, 28124, 14055, 6853, 3250, 1449]\n",
    "places365_sizes.reverse()\n",
    "for i, scale in enumerate([\"s10_t0\", \"s9_t0\", \"s8_t0\", \"s7_t0\", \"s6_t0\", \"s5_t0\", \"s4_t0\", \"s3_t0\", \"s2_t0\"]):\n",
    "    files = [filename for filename in all_files if filename.startswith(f\"{model_name}_{width}_{scale}\")]\n",
    "    width_results = {}\n",
    "    for file in files:\n",
    "        array = np.load(os.path.join(path, file))\n",
    "        width_results[file.split(f\"_\")[4].split('.npy')[0]] = array\n",
    "    final_results[f\"scale {scale}: {imagenet_sizes[i]} picture\"] = width_results\n",
    "\n"
   ]
  },
  {
   "cell_type": "code",
   "execution_count": 11,
   "id": "53ee9723",
   "metadata": {},
   "outputs": [],
   "source": [
    "with open(f'brain_score_results/scaling_data_places365.pkl', 'wb') as f:\n",
    "    pickle.dump(final_results, f)"
   ]
  },
  {
   "cell_type": "markdown",
   "id": "842cc369",
   "metadata": {},
   "source": [
    "## Get Scaling Compute Results"
   ]
  },
  {
   "cell_type": "code",
   "execution_count": 56,
   "id": "b526c7b5",
   "metadata": {},
   "outputs": [],
   "source": [
    "folder = \"scaling_compute\"\n",
    "model_name = \"resnet50\"\n",
    "width = \"width64\"\n",
    "path = f\"/home/hamza97/scratch/data/scaling_data/brain_scores/{folder}\"\n",
    "all_files = os.listdir(path)"
   ]
  },
  {
   "cell_type": "code",
   "execution_count": 61,
   "id": "ca23040a",
   "metadata": {},
   "outputs": [],
   "source": [
    "acc = [10.388, 23.16, 30.064, 39.556, 46.224, 45.112, 50.476 ,51.64, 54.604,\n",
    "54.6,\n",
    "52.568,\n",
    "55.94,\n",
    "54.616,\n",
    "57.52,\n",
    "58.136,\n",
    "57.996,\n",
    "58.892,\n",
    "58.524,\n",
    "59.632,\n",
    "58.812,\n",
    "60.044,\n",
    "61.012,\n",
    "60.564,\n",
    "61.024,\n",
    "60.824,\n",
    "61.028,\n",
    "61.016,\n",
    "61.236,\n",
    "60.58,\n",
    "62.672,\n",
    "62.468,\n",
    "61.124,\n",
    "60.724,\n",
    "62.852,\n",
    "62.124,\n",
    "61.96,\n",
    "62.276,\n",
    "61.384,\n",
    "62.884,\n",
    "62.144,\n",
    "63.3,\n",
    "63.044]"
   ]
  },
  {
   "cell_type": "code",
   "execution_count": 62,
   "id": "fcdf64c7",
   "metadata": {},
   "outputs": [
    {
     "name": "stdout",
     "output_type": "stream",
     "text": [
      "OUT\n",
      "OUT\n",
      "OUT\n",
      "OUT\n",
      "OUT\n",
      "OUT\n",
      "OUT\n"
     ]
    }
   ],
   "source": [
    "final_results = {}\n",
    "for epoch in range(42):\n",
    "    files = [filename for filename in all_files if filename.startswith(f\"{model_name}_{width}_s0_t0_{epoch}_\")]\n",
    "    if files == []:\n",
    "        print(\"OUT\")\n",
    "    else:\n",
    "        compute_results = {}\n",
    "        for file in files:\n",
    "            array = np.load(os.path.join(path, file))\n",
    "            compute_results[file.split(f\"t0_{epoch}_\")[1].split('_test3.npy')[0]] = array\n",
    "        compute_results[\"acc\"] = acc[epoch]\n",
    "    final_results[f\"epoch: {epoch}\"] = compute_results"
   ]
  },
  {
   "cell_type": "code",
   "execution_count": 63,
   "id": "5a9f57e7",
   "metadata": {},
   "outputs": [],
   "source": [
    "with open(\"brain_score_results/compute_results.pkl\", \"wb\") as pickle_file:\n",
    "    pickle.dump(final_results, pickle_file)"
   ]
  }
 ],
 "metadata": {
  "kernelspec": {
   "display_name": "Python 3 (ipykernel)",
   "language": "python",
   "name": "python3"
  },
  "language_info": {
   "codemirror_mode": {
    "name": "ipython",
    "version": 3
   },
   "file_extension": ".py",
   "mimetype": "text/x-python",
   "name": "python",
   "nbconvert_exporter": "python",
   "pygments_lexer": "ipython3",
   "version": "3.8.2"
  }
 },
 "nbformat": 4,
 "nbformat_minor": 5
}
